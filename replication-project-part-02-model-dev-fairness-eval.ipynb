{
 "cells": [
  {
   "cell_type": "markdown",
   "id": "9395c475",
   "metadata": {},
   "source": [
    "## DSC 180AB Data Science Capstone\n",
    "### Replication Project"
   ]
  },
  {
   "cell_type": "markdown",
   "id": "9e49e865",
   "metadata": {},
   "source": [
    "Team Members:"
   ]
  },
  {
   "cell_type": "markdown",
   "id": "9aa1c3d2",
   "metadata": {},
   "source": [
    "### Table of Contents\n",
    "To return to the table of contents, click on the number at any major section heading."
   ]
  },
  {
   "cell_type": "markdown",
   "id": "1dacfbb4",
   "metadata": {
    "tags": []
   },
   "source": [
    "[1. Introduction](#1.-Introduction)\n",
    "\n",
    "[2. Exploratory Data Analysis](#2.-Exploratory-Data-Analysis)\n",
    "\n",
    "[3. Model Development](#3.-Model-Development)\n",
    "\n",
    "[4. Model Evaluation](#4.-Model-Evaluation)\n",
    "\n",
    "[5. Bias Mitigation](#5.-Bias-Mitigation)\n",
    "\n",
    "[6. Results Summary](#6.-Results-Summary)\n",
    "\n",
    "[7. Explainability](#7.-Explainability)\n",
    "\n",
    "[8. Conclusion & Discussion](#8.-Conclusion-&-Discussion)\n"
   ]
  },
  {
   "cell_type": "markdown",
   "id": "76354145-7d96-4a89-92ec-4dfa713ff959",
   "metadata": {
    "tags": []
   },
   "source": [
    "## This tutorial demonstrates classification model learning with bias mitigation as a part of a Care Management use case using Medical Expenditure data."
   ]
  },
  {
   "cell_type": "markdown",
   "id": "7799d7d3-7572-4e08-9e3a-812ba39befda",
   "metadata": {},
   "source": [
    "The notebook demonstrates how the AIF 360 toolkit can be used to detect and reduce bias when learning classifiers using a variety of fairness metrics and algorithms . It also demonstrates how explanations can be generated for predictions made by models learnt with the toolkit using LIME.\n",
    "\n",
    "* Classifiers are built using Logistic Regression as well as Random Forests.\n",
    "* Bias detection is demonstrated using several metrics, including disparate impact, average odds difference, statistical parity difference, equal opportunity difference, and Theil index.\n",
    "* Bias alleviation is explored via a variety of methods, including reweighing (pre-processing algorithm), prejudice remover (in-processing algorithm), and disparate impact remover (pre-processing technique).\n",
    "* Data from the [Medical Expenditure Panel Survey](https://meps.ahrq.gov/mepsweb/) is used in this tutorial.\n",
    "\n",
    "\n",
    "The Medical Expenditure Panel Survey (MEPS) provides nationally representative estimates of health expenditure, utilization, payment sources, health status, and health insurance coverage among the noninstitutionalized U.S. population. These government-produced data sets examine how people use the US healthcare system.\n",
    "\n",
    "MEPS is administered by the Agency for Healthcare Research and Quality (AHRQ) and is divided into three components: \n",
    "* Household\n",
    "* Insurance/Employer, and \n",
    "* Medical Provider. \n",
    "\n",
    "These components provide comprehensive national estimates of health care use and payment by individuals, families, and any other demographic group of interest."
   ]
  },
  {
   "cell_type": "markdown",
   "id": "ebad3269",
   "metadata": {},
   "source": [
    "### [1.](#Table-of-Contents) Introduction"
   ]
  },
  {
   "cell_type": "markdown",
   "id": "c682f615",
   "metadata": {},
   "source": [
    "The [AI Fairness 360 toolkit](https://github.com/Trusted-AI/AIF360) is an extensible open-source library containing techniques developed by the research community to help detect and mitigate bias in machine learning models throughout the AI application lifecycle. AI Fairness 360 package is available in both Python and R. Documentation is available [here](https://aif360.readthedocs.io/en/v0.2.3/index.html)\n",
    "\n",
    "The AI Fairness 360 package includes: \n",
    "- a comprehensive set of metrics for datasets and models to test for biases,\n",
    "- explanations for these metrics, and\n",
    "- algorithms to mitigate bias in datasets and models\n",
    "It is designed to translate algorithmic research from the lab into the actual practice of domains as wide-ranging as finance, human capital management, healthcare, and education"
   ]
  },
  {
   "cell_type": "markdown",
   "id": "523227a6-425b-4dba-bb8a-81ea10e59102",
   "metadata": {
    "tags": []
   },
   "source": [
    "#### 1.1 Use Case\n",
    "\n",
    "**In order to demonstrate how AIF360 can be used to detect and mitigate bias in classfier models, we adopt the following use case:**\n",
    "\n",
    "* Data scientist develops a 'fair' healthcare utilization scoring model with respect to defined protected classes. Fairness may be dictated by legal or government regulations, such as a requirement that additional care decisions be not predicated on factors such as race of the patient.\n",
    "* Developer takes the model AND performance characteristics / specs of the model (e.g. accuracy, fairness tests, etc. basically the model factsheet) and deploys the model in an enterprise app that prioritizes cases for care management.\n",
    "* The app is put into production and starts scoring people and making recommendations. \n",
    "* Explanations are generated for each recommendation\n",
    "* Both recommendations and associated explanations are given to nurses as a part of the care management process. The nurses can evaluate the recommendations for quality and correctness and provide feedback.\n",
    "* Nurse feedback as well as analysis of usage data with respect to specs of the model w.r.t accuracy and fairness is communicated to AI Ops specialist and LOB user periodically.\n",
    "* When significant drift in model specs relative to the model factsheet is observed, the model is sent back for retraining."
   ]
  },
  {
   "cell_type": "markdown",
   "id": "f8b3fccd-dada-42d4-a408-42582b8d060f",
   "metadata": {
    "tags": []
   },
   "source": [
    "#### 1.2 Data\n",
    "Released as an ASCII file (with related SAS, SPSS, and STATA programming statements) and a SAS transport dataset, this public use file provides information collected on a nationally representative sample of the civilian noninstitutionalized population of the United States for calendar year 2015. This file consists of MEPS survey data obtained in Rounds 3, 4, and 5 of Panel 19 and Rounds 1, 2, and 3 of Panel 20 (i.e., the rounds for the MEPS panels covering calendar year 2015) and consolidates all of the final 2015 person-level variables onto one file. This file contains the following variables previously released on HC-174: survey administration, language of interview variable, demographics, parent identifiers, health status, disability days variables, access to care, employment, quality of care, patient satisfaction, health insurance, and use variables. The HC-181 file also includes these variables: income variables and expenditure variables.\n",
    "\n",
    "The specific data used is the [2015 Full Year Consolidated Data File](https://meps.ahrq.gov/mepsweb/data_stats/download_data_files_detail.jsp?cboPufNumber=HC-181) as well as the [2016 Full Year Consolidated Data File](https://meps.ahrq.gov/mepsweb/data_stats/download_data_files_detail.jsp?cboPufNumber=HC-192).\n",
    "\n",
    "* The 2015 file contains data from rounds 3,4,5 of panel 19 (2014) and rounds 1,2,3 of panel 20 (2015). \n",
    "* The 2016 file contains data from rounds 3,4,5 of panel 20 (2015) and rounds 1,2,3 of panel 21 (2016).\n",
    "\n",
    "In this example, three datasets were constructed: one from panel 19, round 5 (used for learning models), one from panel 20, round 3 (used for deployment/testing of model - steps); the other from panel 21, round 3 (used for re-training and deployment/testing of updated model)."
   ]
  },
  {
   "cell_type": "markdown",
   "id": "4bcd0b66-89d3-4e62-a3af-1b62b3dbaf27",
   "metadata": {
    "jp-MarkdownHeadingCollapsed": true,
    "tags": []
   },
   "source": [
    "#### 1.3 Methodology \n",
    "\n",
    "For each dataset, the sensitive attribute is 'RACE' constructed as follows: 'Whites' (privileged class) defined by the features RACEV2X = 1 (White) and HISPANX = 2 (non Hispanic); 'Non-Whites' that included everyone else.  \n",
    "\n",
    "* Along with race as the sensitive feature, other features used for modeling include demographics  (such as age, gender, active duty status), physical/mental health assessments, diagnosis codes (such as history of diagnosis of cancer, or diabetes), and limitations (such as cognitive or hearing or vision limitation).\n",
    "* To measure utilization, a composite feature, 'UTILIZATION', was created to measure the total number of trips requiring some sort of medical care by summing up the following features: OBTOTV15(16), the number of office based visits;  OPTOTV15(16), the number of outpatient visits; ERTOT15(16), the number of ER visits;  IPNGTD15(16), the number of inpatient nights, and  + HHTOTD16, the number of home health visits.\n",
    "* The model classification task is to predict whether a person would have 'high' utilization (defined as UTILIZATION >= 10, roughly the average utilization for the considered population). High utilization respondents constituted around 17% of each dataset.\n",
    "* To simulate the scenario, each dataset is split into 3 parts: a train, a validation, and a test/deployment part.\n",
    "\n",
    "**We assume that the model is initially built and tuned using the 2015 Panel 19 train/test data**\n",
    "* It is then put into practice and used to score people to identify potential candidates for care management. \n",
    "* Initial deployment is simulated to 2015 Panel 20 deployment data. \n",
    "* To show change in performance and/or fairness over time, the 2016 Panel 21 deployment data is used. \n",
    "* Finally, if drift is observed, the 2015 train/validation data is used to learn a new model and evaluated again on the 2016 deployment data"
   ]
  },
  {
   "cell_type": "markdown",
   "id": "913a44da",
   "metadata": {},
   "source": [
    "### 1.4 Insert writeup of overall replication project goals and big picture thinking (2-3 paragraphs).  \n",
    "* Why do we care about this? \n",
    "* What would the benefit of predicting utilization be? \n",
    "* What might occur if there are errors?\n",
    "* Who are the affected parties and stakeholders?\n",
    "* Other thoughts?"
   ]
  },
  {
   "cell_type": "markdown",
   "id": "5cd7569b-9388-4939-9422-6d134dbc0303",
   "metadata": {},
   "source": [
    "**Write up here:**"
   ]
  },
  {
   "cell_type": "markdown",
   "id": "20f776c5-8ed6-49c3-9f12-f2afed0605d4",
   "metadata": {},
   "source": [
    "---\n",
    "End of Introduction"
   ]
  },
  {
   "cell_type": "markdown",
   "id": "5f1413d0",
   "metadata": {},
   "source": [
    "### [2.](#Table-of-Contents) Exploratory Data Analysis (EDA)\n"
   ]
  },
  {
   "cell_type": "markdown",
   "id": "e6c4a57f-abcf-47c6-961e-baec728e930a",
   "metadata": {},
   "source": [
    "The specific data used is the [2015 Full Year Consolidated Data File](https://meps.ahrq.gov/mepsweb/data_stats/download_data_files_detail.jsp?cboPufNumber=HC-181) as well as the [2016 Full Year Consolidated Data File](https://meps.ahrq.gov/mepsweb/data_stats/download_data_files_detail.jsp?cboPufNumber=HC-192).\n",
    "\n",
    "* The 2015 file contains data from rounds 3,4,5 of panel 19 (2014) and rounds 1,2,3 of panel 20 (2015). \n",
    "* The 2016 file contains data from rounds 3,4,5 of panel 20 (2015) and rounds 1,2,3 of panel 21 (2016).\n",
    "\n",
    "In this example, three datasets were constructed: one from panel 19, round 5 (used for learning models), one from panel 20, round 3 (used for deployment/testing of model - steps); the other from panel 21, round 3 (used for re-training and deployment/testing of updated model).\n",
    "\n",
    "See the corresponding [Codebook](https://meps.ahrq.gov/mepsweb/data_stats/download_data_files_detail.jsp?cboPufNumber=HC-181) for information on variables.\n",
    "\n",
    "##### Key MEPS dataset features include:\n",
    "* **Utilization**: To measure utilization, a composite feature, 'UTILIZATION', was created to measure the total number of trips requiring some sort of medical care by summing up the following features: OBTOTV15(16), the number of office based visits;  OPTOTV15(16), the number of outpatient visits; ERTOT15(16), the number of ER visits;  IPNGTD15(16), the number of inpatient nights, and  + HHTOTD16, the number of home health visits.\n",
    "* The model classification task is to predict whether a person would have **'high'** utilization (defined as UTILIZATION >= 10, roughly the average utilization for the considered population). High utilization respondents constituted around 17% of each dataset."
   ]
  },
  {
   "cell_type": "markdown",
   "id": "d7368b94-7451-4cf1-8a66-229d2a07907d",
   "metadata": {
    "jp-MarkdownHeadingCollapsed": true,
    "tags": []
   },
   "source": [
    "#### 2.0 Pre-processing Scripts (for each Panel)\n",
    "\n",
    "There is currently minimal EDA for this tutorial within IBM AIF360 Medical Expenditure Tutorial. Therefore, we have adapted  utility scripts from IBM AIF360 Tutorial for ease of understanding for how datasets were pre-processed. These will be used primarily for EDA purposes. We will utilize IBM's tutorial for the remainder of the project. We have utilized Pandas for this portion of the project. \n",
    "\n",
    "**Note:** these pre-processing script below are run for each data file, and then filtered for each panel. This was done in order to match subsequent portions of the tutorial, and how train/test/validation datasets were split."
   ]
  },
  {
   "cell_type": "markdown",
   "id": "49b833fd",
   "metadata": {
    "tags": []
   },
   "source": [
    "#### 2.1 Get and Load Dataset, Apply Pre-processing"
   ]
  },
  {
   "cell_type": "markdown",
   "id": "cd36982c-27bb-4159-9d99-1730c1ca8b6c",
   "metadata": {
    "tags": []
   },
   "source": [
    "**Before Proceeding Ensure You Have:**\n",
    "* Forked the AIF360 R=repository and cloned locally to your disk or virtual machine\n",
    "* Downloaded the `h181.csv` and `h192.csv` data files uploaded [here](https://www.kaggle.com/datasets/nanrahman/mepsdata)\n",
    "* Place the `h181.csv` and `h192.csv` in a folder you can access (we placed it in `../aif360/data/raw/meps/` of our forked AIF360 repository)\n",
    "* For EDA we only focus on `h181.csv` "
   ]
  },
  {
   "cell_type": "code",
   "execution_count": 1,
   "id": "52b887ff",
   "metadata": {},
   "outputs": [
    {
     "name": "stderr",
     "output_type": "stream",
     "text": [
      "/Users/ethanslin/Library/Python/3.9/lib/python/site-packages/urllib3/__init__.py:34: NotOpenSSLWarning: urllib3 v2.0 only supports OpenSSL 1.1.1+, currently the 'ssl' module is compiled with 'LibreSSL 2.8.3'. See: https://github.com/urllib3/urllib3/issues/3020\n",
      "  warnings.warn(\n",
      "WARNING:root:No module named 'fairlearn': ExponentiatedGradientReduction will be unavailable. To install, run:\n",
      "pip install 'aif360[Reductions]'\n",
      "WARNING:root:No module named 'fairlearn': GridSearchReduction will be unavailable. To install, run:\n",
      "pip install 'aif360[Reductions]'\n",
      "WARNING:root:No module named 'inFairness': SenSeI and SenSR will be unavailable. To install, run:\n",
      "pip install 'aif360[inFairness]'\n",
      "WARNING:root:No module named 'fairlearn': GridSearchReduction will be unavailable. To install, run:\n",
      "pip install 'aif360[Reductions]'\n"
     ]
    }
   ],
   "source": [
    "# Imports\n",
    "import sys\n",
    "\n",
    "%matplotlib inline\n",
    "import matplotlib.pyplot as plt\n",
    "import numpy as np\n",
    "from IPython.display import Markdown, display\n",
    "import pandas as pd\n",
    "import seaborn as sns\n",
    "\n",
    "\n",
    "# Datasets\n",
    "from aif360.datasets import MEPSDataset19\n",
    "from aif360.datasets import MEPSDataset20\n",
    "from aif360.datasets import MEPSDataset21\n",
    "\n",
    "# Fairness metrics\n",
    "from aif360.metrics import BinaryLabelDatasetMetric\n",
    "from aif360.metrics import ClassificationMetric\n",
    "\n",
    "from sklearn.pipeline import make_pipeline\n"
   ]
  },
  {
   "cell_type": "markdown",
   "id": "90379749-ae30-4908-b400-400254239ecd",
   "metadata": {
    "tags": []
   },
   "source": [
    " ### REPLACE THIS SECTION WITH YOUR PREVIOUS EDA ANALYSIS"
   ]
  },
  {
   "cell_type": "markdown",
   "id": "89cb0cec-6f20-4201-bdaa-feb032b62411",
   "metadata": {
    "tags": []
   },
   "source": [
    "\n",
    "### End of Replication Part 01 -  EDA\n"
   ]
  },
  {
   "cell_type": "markdown",
   "id": "bef7f4e6-b2f0-4c7c-ab1f-9094a6339865",
   "metadata": {
    "jp-MarkdownHeadingCollapsed": true,
    "tags": []
   },
   "source": [
    "-----\n",
    "# Start of Replication Part 02 -  Model Development, and Fairness Evaluation\n",
    "\n",
    "## There are **two** components to `Replication Project Part #02`\n",
    "1. Training models without de-biasing, using IBM's tutorial\n",
    "2. Training models without de-biasing, using your own model development techniques including (1) Feature Selection, (2) Encoding, (3) Binning Features, and other items \n",
    "\n",
    "#### We will now return to IBM AIF360's [Medical Expenditure Tutorial](https://nbviewer.org/github/IBM/AIF360/blob/master/examples/tutorial_medical_expenditure.ipynb) \n",
    "_*Note that it is primarily Scikit-learn based_\n",
    "\n",
    "* A reminder, you will need to fork [AIF360's repository](https://github.com/Trusted-AI/AIF360) into your own GitHub and access the notebook locally or via your method of choice\n",
    "* AIF360's Repository can be found under: `AIF360`/`Examples`/tutorial_medical_expenditure.ipynb\n",
    "* Ensure you have your `aif360` environment turned and activated using a miniconda prompt\n",
    "* Use Jupyter Labs\n",
    "* Refer to [Week 03](https://nanrahman.github.io/capstone-responsible-ai/weeks/03-Replication-Part-00/) content on the course Website to access the `Quickstart Guide`\n",
    "\n",
    "\n",
    "\n",
    "\n"
   ]
  },
  {
   "cell_type": "markdown",
   "id": "5550894e-d038-45ae-aea8-fbbcdf9e1b09",
   "metadata": {
    "tags": []
   },
   "source": [
    "### [3.](#Table-of-Contents) Model Development without Debiasing \n"
   ]
  },
  {
   "cell_type": "markdown",
   "id": "d6b80716-116d-4a6f-b3ab-d74ed6becb20",
   "metadata": {},
   "source": [
    "First, load all necessary packages"
   ]
  },
  {
   "cell_type": "code",
   "execution_count": 2,
   "id": "bddca008-8041-47b5-915e-3df884b48823",
   "metadata": {},
   "outputs": [
    {
     "ename": "ModuleNotFoundError",
     "evalue": "No module named 'lime'",
     "output_type": "error",
     "traceback": [
      "\u001b[0;31m---------------------------------------------------------------------------\u001b[0m",
      "\u001b[0;31mModuleNotFoundError\u001b[0m                       Traceback (most recent call last)",
      "Cell \u001b[0;32mIn[2], line 35\u001b[0m\n\u001b[1;32m     33\u001b[0m \u001b[38;5;66;03m# LIME\u001b[39;00m\n\u001b[1;32m     34\u001b[0m \u001b[38;5;28;01mfrom\u001b[39;00m \u001b[38;5;21;01maif360\u001b[39;00m\u001b[38;5;21;01m.\u001b[39;00m\u001b[38;5;21;01mdatasets\u001b[39;00m\u001b[38;5;21;01m.\u001b[39;00m\u001b[38;5;21;01mlime_encoder\u001b[39;00m \u001b[38;5;28;01mimport\u001b[39;00m LimeEncoder\n\u001b[0;32m---> 35\u001b[0m \u001b[38;5;28;01mimport\u001b[39;00m \u001b[38;5;21;01mlime\u001b[39;00m\n\u001b[1;32m     36\u001b[0m \u001b[38;5;28;01mfrom\u001b[39;00m \u001b[38;5;21;01mlime\u001b[39;00m\u001b[38;5;21;01m.\u001b[39;00m\u001b[38;5;21;01mlime_tabular\u001b[39;00m \u001b[38;5;28;01mimport\u001b[39;00m LimeTabularExplainer\n\u001b[1;32m     38\u001b[0m np\u001b[38;5;241m.\u001b[39mrandom\u001b[38;5;241m.\u001b[39mseed(\u001b[38;5;241m1\u001b[39m)\n",
      "\u001b[0;31mModuleNotFoundError\u001b[0m: No module named 'lime'"
     ]
    }
   ],
   "source": [
    "import sys\n",
    "sys.path.insert(0, '../')\n",
    "\n",
    "%matplotlib inline\n",
    "import matplotlib.pyplot as plt\n",
    "import numpy as np\n",
    "from IPython.display import Markdown, display\n",
    "\n",
    "# Datasets\n",
    "from aif360.datasets import MEPSDataset19\n",
    "from aif360.datasets import MEPSDataset20\n",
    "from aif360.datasets import MEPSDataset21\n",
    "\n",
    "# Fairness metrics\n",
    "from aif360.metrics import BinaryLabelDatasetMetric\n",
    "from aif360.metrics import ClassificationMetric\n",
    "\n",
    "# Explainers\n",
    "from aif360.explainers import MetricTextExplainer\n",
    "\n",
    "# Scalers\n",
    "from sklearn.preprocessing import StandardScaler\n",
    "\n",
    "# Classifiers\n",
    "from sklearn.ensemble import RandomForestClassifier\n",
    "from sklearn.linear_model import LogisticRegression\n",
    "from sklearn.pipeline import make_pipeline\n",
    "\n",
    "# Bias mitigation techniques\n",
    "from aif360.algorithms.preprocessing import Reweighing\n",
    "from aif360.algorithms.inprocessing import PrejudiceRemover\n",
    "\n",
    "# LIME\n",
    "from aif360.datasets.lime_encoder import LimeEncoder\n",
    "import lime\n",
    "from lime.lime_tabular import LimeTabularExplainer\n",
    "\n",
    "np.random.seed(1)"
   ]
  },
  {
   "cell_type": "code",
   "execution_count": 15,
   "id": "acb12e54",
   "metadata": {},
   "outputs": [],
   "source": [
    "# Imports\n",
    "import sys\n",
    "\n",
    "%matplotlib inline\n",
    "import matplotlib.pyplot as plt\n",
    "import numpy as np\n",
    "from IPython.display import Markdown, display\n",
    "import pandas as pd\n",
    "import seaborn as sns\n",
    "\n",
    "# Datasets\n",
    "from aif360.datasets import MEPSDataset19\n",
    "from aif360.datasets import MEPSDataset20\n",
    "from aif360.datasets import MEPSDataset21\n",
    "\n",
    "# Fairness metrics\n",
    "from aif360.metrics import BinaryLabelDatasetMetric\n",
    "from aif360.metrics import ClassificationMetric\n",
    "\n",
    "from sklearn.pipeline import make_pipeline\n",
    "\n",
    "\n",
    "\n",
    "import requests\n",
    "from bs4 import BeautifulSoup\n",
    "\n",
    "import re\n",
    "\n",
    "pd.set_option('display.max_columns', None)"
   ]
  },
  {
   "cell_type": "markdown",
   "id": "80c80809-7254-49b7-8cce-0adfdee9a135",
   "metadata": {},
   "source": [
    "### 3.1. Load data & create splits for learning/validating/testing model"
   ]
  },
  {
   "cell_type": "code",
   "execution_count": 16,
   "id": "53f29737",
   "metadata": {},
   "outputs": [],
   "source": [
    "raw_181 = pd.read_csv('aif360/data/raw/meps/h181.csv')\n"
   ]
  },
  {
   "cell_type": "code",
   "execution_count": 17,
   "id": "bfd1c1be",
   "metadata": {},
   "outputs": [],
   "source": [
    "default_mappings = {\n",
    "    'label_maps': [{1.0: '>= 10 Visits', 0.0: '< 10 Visits'}],\n",
    "    'protected_attribute_maps': [{1.0: 'White', 0.0: 'Non-White'}]}\n",
    "\n",
    "def default_preprocessing19(df):\n",
    "    \"\"\"\n",
    "    1.Create a new column, RACE that is 'White' if RACEV2X = 1 and HISPANX = 2 i.e. non Hispanic White\n",
    "      and 'non-White' otherwise\n",
    "    2. Restrict to Panel 19\n",
    "    3. RENAME all columns that are PANEL/ROUND SPECIFIC\n",
    "    4. Drop rows based on certain values of individual features that correspond to missing/unknown - generally < -1\n",
    "    5. Compute UTILIZATION, binarize it to 0 (< 10) and 1 (>= 10)\n",
    "    \"\"\"\n",
    "    def race(row):\n",
    "        if ((row['HISPANX'] == 2) and (row['RACEV2X'] == 1)):  #non-Hispanic Whites are marked as WHITE; all others as NON-WHITE#return 'White'\n",
    "            return 'White'\n",
    "        return 'Non-White'\n",
    "\n",
    "    df['RACEV2X'] = df.apply(lambda row: race(row), axis=1)\n",
    "    df = df.rename(columns = {'RACEV2X' : 'RACE'})\n",
    "\n",
    "    df = df[df['PANEL'] == 19]\n",
    "\n",
    "    # RENAME COLUMNS\n",
    "    df = df.rename(columns = {'FTSTU53X' : 'FTSTU', 'ACTDTY53' : 'ACTDTY', 'HONRDC53' : 'HONRDC', 'RTHLTH53' : 'RTHLTH',\n",
    "                              'MNHLTH53' : 'MNHLTH', 'CHBRON53' : 'CHBRON', 'JTPAIN53' : 'JTPAIN', 'PREGNT53' : 'PREGNT',\n",
    "                              'WLKLIM53' : 'WLKLIM', 'ACTLIM53' : 'ACTLIM', 'SOCLIM53' : 'SOCLIM', 'COGLIM53' : 'COGLIM',\n",
    "                              'EMPST53' : 'EMPST', 'REGION53' : 'REGION', 'MARRY53X' : 'MARRY', 'AGE53X' : 'AGE',\n",
    "                              'POVCAT15' : 'POVCAT', 'INSCOV15' : 'INSCOV'})\n",
    "\n",
    "    df = df[df['REGION'] >= 0] # remove values -1\n",
    "    df = df[df['AGE'] >= 0] # remove values -1\n",
    "\n",
    "    df = df[df['MARRY'] >= 0] # remove values -1, -7, -8, -9\n",
    "\n",
    "    df = df[df['ASTHDX'] >= 0] # remove values -1, -7, -8, -9\n",
    "\n",
    "    df = df[(df[['FTSTU','ACTDTY','HONRDC','RTHLTH','MNHLTH','HIBPDX','CHDDX','ANGIDX','EDUCYR','HIDEG',\n",
    "                             'MIDX','OHRTDX','STRKDX','EMPHDX','CHBRON','CHOLDX','CANCERDX','DIABDX',\n",
    "                             'JTPAIN','ARTHDX','ARTHTYPE','ASTHDX','ADHDADDX','PREGNT','WLKLIM',\n",
    "                             'ACTLIM','SOCLIM','COGLIM','DFHEAR42','DFSEE42','ADSMOK42',\n",
    "                             'PHQ242','EMPST','POVCAT','INSCOV']] >= -1).all(1)]  #for all other categorical features, remove values < -1\n",
    "\n",
    "    def utilization(row):\n",
    "        return row['OBTOTV15'] + row['OPTOTV15'] + row['ERTOT15'] + row['IPNGTD15'] + row['HHTOTD15']\n",
    "\n",
    "    df['TOTEXP15'] = df.apply(lambda row: utilization(row), axis=1)\n",
    "    lessE = df['TOTEXP15'] < 10.0\n",
    "    df.loc[lessE,'TOTEXP15'] = 0.0\n",
    "    moreE = df['TOTEXP15'] >= 10.0\n",
    "    df.loc[moreE,'TOTEXP15'] = 1.0\n",
    "\n",
    "    df = df.rename(columns = {'TOTEXP15' : 'UTILIZATION'})\n",
    "    return df"
   ]
  },
  {
   "cell_type": "code",
   "execution_count": 18,
   "id": "e344f552",
   "metadata": {},
   "outputs": [],
   "source": [
    "def default_preprocessing20(df):\n",
    "    \"\"\"\n",
    "    1.Create a new column, RACE that is 'White' if RACEV2X = 1 and HISPANX = 2 i.e. non Hispanic White\n",
    "      and 'non-White' otherwise\n",
    "    2. Restrict to Panel 20\n",
    "    3. RENAME all columns that are PANEL/ROUND SPECIFIC\n",
    "    4. Drop rows based on certain values of individual features that correspond to missing/unknown - generally < -1\n",
    "    5. Compute UTILIZATION, binarize it to 0 (< 10) and 1 (>= 10)\n",
    "    \"\"\"\n",
    "    def race(row):\n",
    "        if ((row['HISPANX'] == 2) and (row['RACEV2X'] == 1)):  #non-Hispanic Whites are marked as WHITE; all others as NON-WHITE\n",
    "            return 'White'\n",
    "        return 'Non-White'\n",
    "\n",
    "    df['RACEV2X'] = df.apply(lambda row: race(row), axis=1)\n",
    "    df = df.rename(columns = {'RACEV2X' : 'RACE'})\n",
    "\n",
    "    df = df[df['PANEL'] == 20]\n",
    "\n",
    "    # RENAME COLUMNS\n",
    "    df = df.rename(columns = {'FTSTU53X' : 'FTSTU', 'ACTDTY53' : 'ACTDTY', 'HONRDC53' : 'HONRDC', 'RTHLTH53' : 'RTHLTH',\n",
    "                              'MNHLTH53' : 'MNHLTH', 'CHBRON53' : 'CHBRON', 'JTPAIN53' : 'JTPAIN', 'PREGNT53' : 'PREGNT',\n",
    "                              'WLKLIM53' : 'WLKLIM', 'ACTLIM53' : 'ACTLIM', 'SOCLIM53' : 'SOCLIM', 'COGLIM53' : 'COGLIM',\n",
    "                              'EMPST53' : 'EMPST', 'REGION53' : 'REGION', 'MARRY53X' : 'MARRY', 'AGE53X' : 'AGE',\n",
    "                              'POVCAT15' : 'POVCAT', 'INSCOV15' : 'INSCOV'})\n",
    "\n",
    "    df = df[df['REGION'] >= 0] # remove values -1\n",
    "    df = df[df['AGE'] >= 0] # remove values -1\n",
    "\n",
    "    df = df[df['MARRY'] >= 0] # remove values -1, -7, -8, -9\n",
    "\n",
    "    df = df[df['ASTHDX'] >= 0] # remove values -1, -7, -8, -9\n",
    "\n",
    "    df = df[(df[['FTSTU','ACTDTY','HONRDC','RTHLTH','MNHLTH','HIBPDX','CHDDX','ANGIDX','EDUCYR','HIDEG',\n",
    "                             'MIDX','OHRTDX','STRKDX','EMPHDX','CHBRON','CHOLDX','CANCERDX','DIABDX',\n",
    "                             'JTPAIN','ARTHDX','ARTHTYPE','ASTHDX','ADHDADDX','PREGNT','WLKLIM',\n",
    "                             'ACTLIM','SOCLIM','COGLIM','DFHEAR42','DFSEE42','ADSMOK42',\n",
    "                             'PHQ242','EMPST','POVCAT','INSCOV']] >= -1).all(1)]  #for all other categorical features, remove values < -1\n",
    "\n",
    "    def utilization(row):\n",
    "        return row['OBTOTV15'] + row['OPTOTV15'] + row['ERTOT15'] + row['IPNGTD15'] + row['HHTOTD15']\n",
    "\n",
    "    df['TOTEXP15'] = df.apply(lambda row: utilization(row), axis=1)\n",
    "    lessE = df['TOTEXP15'] < 10.0\n",
    "    df.loc[lessE,'TOTEXP15'] = 0.0\n",
    "    moreE = df['TOTEXP15'] >= 10.0\n",
    "    df.loc[moreE,'TOTEXP15'] = 1.0\n",
    "\n",
    "    df = df.rename(columns = {'TOTEXP15' : 'UTILIZATION'})\n",
    "    return df"
   ]
  },
  {
   "cell_type": "code",
   "execution_count": 19,
   "id": "b6aa4025",
   "metadata": {},
   "outputs": [],
   "source": [
    "label_name='UTILIZATION'\n",
    "favorable_classes=[1.0]\n",
    "protected_attribute_names=['RACE']\n",
    "privileged_classes=[['White']]\n",
    "instance_weights_name='PERWT15F'\n",
    "categorical_features=['REGION','SEX','MARRY',\n",
    "                                 'FTSTU','ACTDTY','HONRDC','RTHLTH','MNHLTH','HIBPDX','CHDDX','ANGIDX',\n",
    "                                 'MIDX','OHRTDX','STRKDX','EMPHDX','CHBRON','CHOLDX','CANCERDX','DIABDX',\n",
    "                                 'JTPAIN','ARTHDX','ARTHTYPE','ASTHDX','ADHDADDX','PREGNT','WLKLIM',\n",
    "                                 'ACTLIM','SOCLIM','COGLIM','DFHEAR42','DFSEE42', 'ADSMOK42', 'PHQ242',\n",
    "                                 'EMPST','POVCAT','INSCOV']\n",
    "\n",
    "features_to_keep=['REGION','AGE','SEX','RACE','MARRY',\n",
    "                                 'FTSTU','ACTDTY','HONRDC','RTHLTH','MNHLTH','HIBPDX','CHDDX','ANGIDX',\n",
    "                                 'MIDX','OHRTDX','STRKDX','EMPHDX','CHBRON','CHOLDX','CANCERDX','DIABDX',\n",
    "                                 'JTPAIN','ARTHDX','ARTHTYPE','ASTHDX','ADHDADDX','PREGNT','WLKLIM',\n",
    "                                 'ACTLIM','SOCLIM','COGLIM','DFHEAR42','DFSEE42', 'ADSMOK42',\n",
    "                                 'PCS42','MCS42','K6SUM42','PHQ242','EMPST','POVCAT','INSCOV','UTILIZATION', 'PERWT15F']\n",
    "features_to_drop=[]\n",
    "na_values=[]\n",
    "# custom_preprocessing=default_preprocessing <- don't need this yet for EDA\n",
    "metadata=default_mappings\n"
   ]
  },
  {
   "cell_type": "code",
   "execution_count": 20,
   "id": "ed1687b7",
   "metadata": {},
   "outputs": [],
   "source": [
    "df_panel_19 = default_preprocessing19(raw_181)\n",
    "df_panel_19_reduced = df_panel_19[features_to_keep]\n",
    "\n",
    "df_panel_20 = default_preprocessing20(raw_181)\n",
    "df_panel_20_reduced = df_panel_20[features_to_keep]"
   ]
  },
  {
   "cell_type": "code",
   "execution_count": 21,
   "id": "d30f7b35",
   "metadata": {},
   "outputs": [
    {
     "data": {
      "text/html": [
       "<div>\n",
       "<style scoped>\n",
       "    .dataframe tbody tr th:only-of-type {\n",
       "        vertical-align: middle;\n",
       "    }\n",
       "\n",
       "    .dataframe tbody tr th {\n",
       "        vertical-align: top;\n",
       "    }\n",
       "\n",
       "    .dataframe thead th {\n",
       "        text-align: right;\n",
       "    }\n",
       "</style>\n",
       "<table border=\"1\" class=\"dataframe\">\n",
       "  <thead>\n",
       "    <tr style=\"text-align: right;\">\n",
       "      <th></th>\n",
       "      <th>REGION</th>\n",
       "      <th>AGE</th>\n",
       "      <th>SEX</th>\n",
       "      <th>RACE</th>\n",
       "      <th>MARRY</th>\n",
       "      <th>FTSTU</th>\n",
       "      <th>ACTDTY</th>\n",
       "      <th>HONRDC</th>\n",
       "      <th>RTHLTH</th>\n",
       "      <th>MNHLTH</th>\n",
       "      <th>HIBPDX</th>\n",
       "      <th>CHDDX</th>\n",
       "      <th>ANGIDX</th>\n",
       "      <th>MIDX</th>\n",
       "      <th>OHRTDX</th>\n",
       "      <th>STRKDX</th>\n",
       "      <th>EMPHDX</th>\n",
       "      <th>CHBRON</th>\n",
       "      <th>CHOLDX</th>\n",
       "      <th>CANCERDX</th>\n",
       "      <th>DIABDX</th>\n",
       "      <th>JTPAIN</th>\n",
       "      <th>ARTHDX</th>\n",
       "      <th>ARTHTYPE</th>\n",
       "      <th>ASTHDX</th>\n",
       "      <th>ADHDADDX</th>\n",
       "      <th>PREGNT</th>\n",
       "      <th>WLKLIM</th>\n",
       "      <th>ACTLIM</th>\n",
       "      <th>SOCLIM</th>\n",
       "      <th>COGLIM</th>\n",
       "      <th>DFHEAR42</th>\n",
       "      <th>DFSEE42</th>\n",
       "      <th>ADSMOK42</th>\n",
       "      <th>PCS42</th>\n",
       "      <th>MCS42</th>\n",
       "      <th>K6SUM42</th>\n",
       "      <th>PHQ242</th>\n",
       "      <th>EMPST</th>\n",
       "      <th>POVCAT</th>\n",
       "      <th>INSCOV</th>\n",
       "      <th>UTILIZATION</th>\n",
       "      <th>PERWT15F</th>\n",
       "    </tr>\n",
       "  </thead>\n",
       "  <tbody>\n",
       "    <tr>\n",
       "      <th>0</th>\n",
       "      <td>2</td>\n",
       "      <td>53</td>\n",
       "      <td>1</td>\n",
       "      <td>White</td>\n",
       "      <td>5</td>\n",
       "      <td>-1</td>\n",
       "      <td>2</td>\n",
       "      <td>2</td>\n",
       "      <td>4</td>\n",
       "      <td>3</td>\n",
       "      <td>1</td>\n",
       "      <td>1</td>\n",
       "      <td>1</td>\n",
       "      <td>1</td>\n",
       "      <td>1</td>\n",
       "      <td>2</td>\n",
       "      <td>1</td>\n",
       "      <td>2</td>\n",
       "      <td>1</td>\n",
       "      <td>2</td>\n",
       "      <td>1</td>\n",
       "      <td>1</td>\n",
       "      <td>1</td>\n",
       "      <td>3</td>\n",
       "      <td>2</td>\n",
       "      <td>-1</td>\n",
       "      <td>-1</td>\n",
       "      <td>2</td>\n",
       "      <td>1</td>\n",
       "      <td>2</td>\n",
       "      <td>2</td>\n",
       "      <td>2</td>\n",
       "      <td>2</td>\n",
       "      <td>2</td>\n",
       "      <td>25.93</td>\n",
       "      <td>58.47</td>\n",
       "      <td>3</td>\n",
       "      <td>0</td>\n",
       "      <td>4</td>\n",
       "      <td>1</td>\n",
       "      <td>2</td>\n",
       "      <td>1</td>\n",
       "      <td>21854.981705</td>\n",
       "    </tr>\n",
       "    <tr>\n",
       "      <th>1</th>\n",
       "      <td>2</td>\n",
       "      <td>56</td>\n",
       "      <td>2</td>\n",
       "      <td>White</td>\n",
       "      <td>3</td>\n",
       "      <td>-1</td>\n",
       "      <td>2</td>\n",
       "      <td>2</td>\n",
       "      <td>4</td>\n",
       "      <td>3</td>\n",
       "      <td>1</td>\n",
       "      <td>2</td>\n",
       "      <td>2</td>\n",
       "      <td>2</td>\n",
       "      <td>2</td>\n",
       "      <td>2</td>\n",
       "      <td>2</td>\n",
       "      <td>2</td>\n",
       "      <td>1</td>\n",
       "      <td>2</td>\n",
       "      <td>1</td>\n",
       "      <td>1</td>\n",
       "      <td>1</td>\n",
       "      <td>3</td>\n",
       "      <td>1</td>\n",
       "      <td>-1</td>\n",
       "      <td>-1</td>\n",
       "      <td>1</td>\n",
       "      <td>1</td>\n",
       "      <td>2</td>\n",
       "      <td>2</td>\n",
       "      <td>2</td>\n",
       "      <td>2</td>\n",
       "      <td>2</td>\n",
       "      <td>20.42</td>\n",
       "      <td>26.57</td>\n",
       "      <td>17</td>\n",
       "      <td>6</td>\n",
       "      <td>4</td>\n",
       "      <td>3</td>\n",
       "      <td>2</td>\n",
       "      <td>1</td>\n",
       "      <td>18169.604822</td>\n",
       "    </tr>\n",
       "    <tr>\n",
       "      <th>3</th>\n",
       "      <td>2</td>\n",
       "      <td>23</td>\n",
       "      <td>2</td>\n",
       "      <td>White</td>\n",
       "      <td>5</td>\n",
       "      <td>3</td>\n",
       "      <td>2</td>\n",
       "      <td>2</td>\n",
       "      <td>1</td>\n",
       "      <td>1</td>\n",
       "      <td>2</td>\n",
       "      <td>2</td>\n",
       "      <td>2</td>\n",
       "      <td>2</td>\n",
       "      <td>2</td>\n",
       "      <td>2</td>\n",
       "      <td>2</td>\n",
       "      <td>2</td>\n",
       "      <td>2</td>\n",
       "      <td>2</td>\n",
       "      <td>2</td>\n",
       "      <td>2</td>\n",
       "      <td>2</td>\n",
       "      <td>-1</td>\n",
       "      <td>2</td>\n",
       "      <td>-1</td>\n",
       "      <td>2</td>\n",
       "      <td>2</td>\n",
       "      <td>2</td>\n",
       "      <td>2</td>\n",
       "      <td>2</td>\n",
       "      <td>2</td>\n",
       "      <td>2</td>\n",
       "      <td>2</td>\n",
       "      <td>53.12</td>\n",
       "      <td>50.33</td>\n",
       "      <td>7</td>\n",
       "      <td>0</td>\n",
       "      <td>1</td>\n",
       "      <td>2</td>\n",
       "      <td>2</td>\n",
       "      <td>0</td>\n",
       "      <td>17191.832515</td>\n",
       "    </tr>\n",
       "    <tr>\n",
       "      <th>4</th>\n",
       "      <td>2</td>\n",
       "      <td>3</td>\n",
       "      <td>1</td>\n",
       "      <td>White</td>\n",
       "      <td>6</td>\n",
       "      <td>-1</td>\n",
       "      <td>3</td>\n",
       "      <td>3</td>\n",
       "      <td>1</td>\n",
       "      <td>3</td>\n",
       "      <td>-1</td>\n",
       "      <td>-1</td>\n",
       "      <td>-1</td>\n",
       "      <td>-1</td>\n",
       "      <td>-1</td>\n",
       "      <td>-1</td>\n",
       "      <td>-1</td>\n",
       "      <td>-1</td>\n",
       "      <td>-1</td>\n",
       "      <td>-1</td>\n",
       "      <td>-1</td>\n",
       "      <td>-1</td>\n",
       "      <td>-1</td>\n",
       "      <td>-1</td>\n",
       "      <td>2</td>\n",
       "      <td>-1</td>\n",
       "      <td>-1</td>\n",
       "      <td>2</td>\n",
       "      <td>-1</td>\n",
       "      <td>2</td>\n",
       "      <td>-1</td>\n",
       "      <td>2</td>\n",
       "      <td>2</td>\n",
       "      <td>-1</td>\n",
       "      <td>-1.00</td>\n",
       "      <td>-1.00</td>\n",
       "      <td>-1</td>\n",
       "      <td>-1</td>\n",
       "      <td>-1</td>\n",
       "      <td>2</td>\n",
       "      <td>2</td>\n",
       "      <td>0</td>\n",
       "      <td>20261.485463</td>\n",
       "    </tr>\n",
       "    <tr>\n",
       "      <th>5</th>\n",
       "      <td>3</td>\n",
       "      <td>27</td>\n",
       "      <td>1</td>\n",
       "      <td>Non-White</td>\n",
       "      <td>1</td>\n",
       "      <td>-1</td>\n",
       "      <td>1</td>\n",
       "      <td>4</td>\n",
       "      <td>2</td>\n",
       "      <td>1</td>\n",
       "      <td>2</td>\n",
       "      <td>2</td>\n",
       "      <td>2</td>\n",
       "      <td>2</td>\n",
       "      <td>1</td>\n",
       "      <td>2</td>\n",
       "      <td>2</td>\n",
       "      <td>2</td>\n",
       "      <td>2</td>\n",
       "      <td>2</td>\n",
       "      <td>2</td>\n",
       "      <td>2</td>\n",
       "      <td>2</td>\n",
       "      <td>-1</td>\n",
       "      <td>2</td>\n",
       "      <td>-1</td>\n",
       "      <td>-1</td>\n",
       "      <td>2</td>\n",
       "      <td>2</td>\n",
       "      <td>2</td>\n",
       "      <td>2</td>\n",
       "      <td>2</td>\n",
       "      <td>2</td>\n",
       "      <td>-1</td>\n",
       "      <td>-1.00</td>\n",
       "      <td>-1.00</td>\n",
       "      <td>-1</td>\n",
       "      <td>-1</td>\n",
       "      <td>1</td>\n",
       "      <td>3</td>\n",
       "      <td>1</td>\n",
       "      <td>0</td>\n",
       "      <td>0.000000</td>\n",
       "    </tr>\n",
       "    <tr>\n",
       "      <th>...</th>\n",
       "      <td>...</td>\n",
       "      <td>...</td>\n",
       "      <td>...</td>\n",
       "      <td>...</td>\n",
       "      <td>...</td>\n",
       "      <td>...</td>\n",
       "      <td>...</td>\n",
       "      <td>...</td>\n",
       "      <td>...</td>\n",
       "      <td>...</td>\n",
       "      <td>...</td>\n",
       "      <td>...</td>\n",
       "      <td>...</td>\n",
       "      <td>...</td>\n",
       "      <td>...</td>\n",
       "      <td>...</td>\n",
       "      <td>...</td>\n",
       "      <td>...</td>\n",
       "      <td>...</td>\n",
       "      <td>...</td>\n",
       "      <td>...</td>\n",
       "      <td>...</td>\n",
       "      <td>...</td>\n",
       "      <td>...</td>\n",
       "      <td>...</td>\n",
       "      <td>...</td>\n",
       "      <td>...</td>\n",
       "      <td>...</td>\n",
       "      <td>...</td>\n",
       "      <td>...</td>\n",
       "      <td>...</td>\n",
       "      <td>...</td>\n",
       "      <td>...</td>\n",
       "      <td>...</td>\n",
       "      <td>...</td>\n",
       "      <td>...</td>\n",
       "      <td>...</td>\n",
       "      <td>...</td>\n",
       "      <td>...</td>\n",
       "      <td>...</td>\n",
       "      <td>...</td>\n",
       "      <td>...</td>\n",
       "      <td>...</td>\n",
       "    </tr>\n",
       "    <tr>\n",
       "      <th>16573</th>\n",
       "      <td>3</td>\n",
       "      <td>25</td>\n",
       "      <td>1</td>\n",
       "      <td>Non-White</td>\n",
       "      <td>1</td>\n",
       "      <td>-1</td>\n",
       "      <td>2</td>\n",
       "      <td>2</td>\n",
       "      <td>1</td>\n",
       "      <td>1</td>\n",
       "      <td>2</td>\n",
       "      <td>2</td>\n",
       "      <td>2</td>\n",
       "      <td>2</td>\n",
       "      <td>2</td>\n",
       "      <td>2</td>\n",
       "      <td>2</td>\n",
       "      <td>2</td>\n",
       "      <td>2</td>\n",
       "      <td>2</td>\n",
       "      <td>2</td>\n",
       "      <td>2</td>\n",
       "      <td>2</td>\n",
       "      <td>-1</td>\n",
       "      <td>2</td>\n",
       "      <td>-1</td>\n",
       "      <td>-1</td>\n",
       "      <td>2</td>\n",
       "      <td>2</td>\n",
       "      <td>2</td>\n",
       "      <td>2</td>\n",
       "      <td>2</td>\n",
       "      <td>2</td>\n",
       "      <td>2</td>\n",
       "      <td>56.71</td>\n",
       "      <td>62.39</td>\n",
       "      <td>0</td>\n",
       "      <td>0</td>\n",
       "      <td>1</td>\n",
       "      <td>1</td>\n",
       "      <td>1</td>\n",
       "      <td>0</td>\n",
       "      <td>4111.315754</td>\n",
       "    </tr>\n",
       "    <tr>\n",
       "      <th>16574</th>\n",
       "      <td>3</td>\n",
       "      <td>25</td>\n",
       "      <td>2</td>\n",
       "      <td>Non-White</td>\n",
       "      <td>1</td>\n",
       "      <td>-1</td>\n",
       "      <td>2</td>\n",
       "      <td>2</td>\n",
       "      <td>1</td>\n",
       "      <td>1</td>\n",
       "      <td>2</td>\n",
       "      <td>2</td>\n",
       "      <td>2</td>\n",
       "      <td>2</td>\n",
       "      <td>2</td>\n",
       "      <td>2</td>\n",
       "      <td>2</td>\n",
       "      <td>2</td>\n",
       "      <td>2</td>\n",
       "      <td>2</td>\n",
       "      <td>2</td>\n",
       "      <td>2</td>\n",
       "      <td>2</td>\n",
       "      <td>-1</td>\n",
       "      <td>2</td>\n",
       "      <td>-1</td>\n",
       "      <td>1</td>\n",
       "      <td>2</td>\n",
       "      <td>2</td>\n",
       "      <td>2</td>\n",
       "      <td>2</td>\n",
       "      <td>2</td>\n",
       "      <td>2</td>\n",
       "      <td>2</td>\n",
       "      <td>56.71</td>\n",
       "      <td>62.39</td>\n",
       "      <td>0</td>\n",
       "      <td>0</td>\n",
       "      <td>4</td>\n",
       "      <td>1</td>\n",
       "      <td>1</td>\n",
       "      <td>0</td>\n",
       "      <td>5415.228173</td>\n",
       "    </tr>\n",
       "    <tr>\n",
       "      <th>16575</th>\n",
       "      <td>3</td>\n",
       "      <td>2</td>\n",
       "      <td>2</td>\n",
       "      <td>White</td>\n",
       "      <td>6</td>\n",
       "      <td>-1</td>\n",
       "      <td>3</td>\n",
       "      <td>3</td>\n",
       "      <td>1</td>\n",
       "      <td>1</td>\n",
       "      <td>-1</td>\n",
       "      <td>-1</td>\n",
       "      <td>-1</td>\n",
       "      <td>-1</td>\n",
       "      <td>-1</td>\n",
       "      <td>-1</td>\n",
       "      <td>-1</td>\n",
       "      <td>-1</td>\n",
       "      <td>-1</td>\n",
       "      <td>-1</td>\n",
       "      <td>-1</td>\n",
       "      <td>-1</td>\n",
       "      <td>-1</td>\n",
       "      <td>-1</td>\n",
       "      <td>2</td>\n",
       "      <td>-1</td>\n",
       "      <td>-1</td>\n",
       "      <td>2</td>\n",
       "      <td>-1</td>\n",
       "      <td>2</td>\n",
       "      <td>-1</td>\n",
       "      <td>2</td>\n",
       "      <td>2</td>\n",
       "      <td>-1</td>\n",
       "      <td>-1.00</td>\n",
       "      <td>-1.00</td>\n",
       "      <td>-1</td>\n",
       "      <td>-1</td>\n",
       "      <td>-1</td>\n",
       "      <td>1</td>\n",
       "      <td>2</td>\n",
       "      <td>0</td>\n",
       "      <td>3896.116219</td>\n",
       "    </tr>\n",
       "    <tr>\n",
       "      <th>16576</th>\n",
       "      <td>1</td>\n",
       "      <td>54</td>\n",
       "      <td>2</td>\n",
       "      <td>Non-White</td>\n",
       "      <td>3</td>\n",
       "      <td>-1</td>\n",
       "      <td>2</td>\n",
       "      <td>2</td>\n",
       "      <td>1</td>\n",
       "      <td>1</td>\n",
       "      <td>2</td>\n",
       "      <td>2</td>\n",
       "      <td>2</td>\n",
       "      <td>2</td>\n",
       "      <td>2</td>\n",
       "      <td>2</td>\n",
       "      <td>2</td>\n",
       "      <td>2</td>\n",
       "      <td>2</td>\n",
       "      <td>2</td>\n",
       "      <td>2</td>\n",
       "      <td>1</td>\n",
       "      <td>1</td>\n",
       "      <td>3</td>\n",
       "      <td>2</td>\n",
       "      <td>-1</td>\n",
       "      <td>-1</td>\n",
       "      <td>2</td>\n",
       "      <td>2</td>\n",
       "      <td>2</td>\n",
       "      <td>2</td>\n",
       "      <td>2</td>\n",
       "      <td>2</td>\n",
       "      <td>2</td>\n",
       "      <td>43.97</td>\n",
       "      <td>42.45</td>\n",
       "      <td>24</td>\n",
       "      <td>0</td>\n",
       "      <td>1</td>\n",
       "      <td>3</td>\n",
       "      <td>2</td>\n",
       "      <td>0</td>\n",
       "      <td>4883.851005</td>\n",
       "    </tr>\n",
       "    <tr>\n",
       "      <th>16577</th>\n",
       "      <td>1</td>\n",
       "      <td>73</td>\n",
       "      <td>2</td>\n",
       "      <td>Non-White</td>\n",
       "      <td>2</td>\n",
       "      <td>-1</td>\n",
       "      <td>4</td>\n",
       "      <td>2</td>\n",
       "      <td>2</td>\n",
       "      <td>1</td>\n",
       "      <td>2</td>\n",
       "      <td>1</td>\n",
       "      <td>2</td>\n",
       "      <td>1</td>\n",
       "      <td>2</td>\n",
       "      <td>2</td>\n",
       "      <td>2</td>\n",
       "      <td>2</td>\n",
       "      <td>2</td>\n",
       "      <td>2</td>\n",
       "      <td>2</td>\n",
       "      <td>2</td>\n",
       "      <td>2</td>\n",
       "      <td>-1</td>\n",
       "      <td>2</td>\n",
       "      <td>-1</td>\n",
       "      <td>-1</td>\n",
       "      <td>2</td>\n",
       "      <td>2</td>\n",
       "      <td>2</td>\n",
       "      <td>2</td>\n",
       "      <td>2</td>\n",
       "      <td>2</td>\n",
       "      <td>2</td>\n",
       "      <td>42.68</td>\n",
       "      <td>43.46</td>\n",
       "      <td>0</td>\n",
       "      <td>0</td>\n",
       "      <td>4</td>\n",
       "      <td>3</td>\n",
       "      <td>2</td>\n",
       "      <td>0</td>\n",
       "      <td>6630.588948</td>\n",
       "    </tr>\n",
       "  </tbody>\n",
       "</table>\n",
       "<p>15830 rows × 43 columns</p>\n",
       "</div>"
      ],
      "text/plain": [
       "       REGION  AGE  SEX       RACE  MARRY  FTSTU  ACTDTY  HONRDC  RTHLTH  \\\n",
       "0           2   53    1      White      5     -1       2       2       4   \n",
       "1           2   56    2      White      3     -1       2       2       4   \n",
       "3           2   23    2      White      5      3       2       2       1   \n",
       "4           2    3    1      White      6     -1       3       3       1   \n",
       "5           3   27    1  Non-White      1     -1       1       4       2   \n",
       "...       ...  ...  ...        ...    ...    ...     ...     ...     ...   \n",
       "16573       3   25    1  Non-White      1     -1       2       2       1   \n",
       "16574       3   25    2  Non-White      1     -1       2       2       1   \n",
       "16575       3    2    2      White      6     -1       3       3       1   \n",
       "16576       1   54    2  Non-White      3     -1       2       2       1   \n",
       "16577       1   73    2  Non-White      2     -1       4       2       2   \n",
       "\n",
       "       MNHLTH  HIBPDX  CHDDX  ANGIDX  MIDX  OHRTDX  STRKDX  EMPHDX  CHBRON  \\\n",
       "0           3       1      1       1     1       1       2       1       2   \n",
       "1           3       1      2       2     2       2       2       2       2   \n",
       "3           1       2      2       2     2       2       2       2       2   \n",
       "4           3      -1     -1      -1    -1      -1      -1      -1      -1   \n",
       "5           1       2      2       2     2       1       2       2       2   \n",
       "...       ...     ...    ...     ...   ...     ...     ...     ...     ...   \n",
       "16573       1       2      2       2     2       2       2       2       2   \n",
       "16574       1       2      2       2     2       2       2       2       2   \n",
       "16575       1      -1     -1      -1    -1      -1      -1      -1      -1   \n",
       "16576       1       2      2       2     2       2       2       2       2   \n",
       "16577       1       2      1       2     1       2       2       2       2   \n",
       "\n",
       "       CHOLDX  CANCERDX  DIABDX  JTPAIN  ARTHDX  ARTHTYPE  ASTHDX  ADHDADDX  \\\n",
       "0           1         2       1       1       1         3       2        -1   \n",
       "1           1         2       1       1       1         3       1        -1   \n",
       "3           2         2       2       2       2        -1       2        -1   \n",
       "4          -1        -1      -1      -1      -1        -1       2        -1   \n",
       "5           2         2       2       2       2        -1       2        -1   \n",
       "...       ...       ...     ...     ...     ...       ...     ...       ...   \n",
       "16573       2         2       2       2       2        -1       2        -1   \n",
       "16574       2         2       2       2       2        -1       2        -1   \n",
       "16575      -1        -1      -1      -1      -1        -1       2        -1   \n",
       "16576       2         2       2       1       1         3       2        -1   \n",
       "16577       2         2       2       2       2        -1       2        -1   \n",
       "\n",
       "       PREGNT  WLKLIM  ACTLIM  SOCLIM  COGLIM  DFHEAR42  DFSEE42  ADSMOK42  \\\n",
       "0          -1       2       1       2       2         2        2         2   \n",
       "1          -1       1       1       2       2         2        2         2   \n",
       "3           2       2       2       2       2         2        2         2   \n",
       "4          -1       2      -1       2      -1         2        2        -1   \n",
       "5          -1       2       2       2       2         2        2        -1   \n",
       "...       ...     ...     ...     ...     ...       ...      ...       ...   \n",
       "16573      -1       2       2       2       2         2        2         2   \n",
       "16574       1       2       2       2       2         2        2         2   \n",
       "16575      -1       2      -1       2      -1         2        2        -1   \n",
       "16576      -1       2       2       2       2         2        2         2   \n",
       "16577      -1       2       2       2       2         2        2         2   \n",
       "\n",
       "       PCS42  MCS42  K6SUM42  PHQ242  EMPST  POVCAT  INSCOV  UTILIZATION  \\\n",
       "0      25.93  58.47        3       0      4       1       2            1   \n",
       "1      20.42  26.57       17       6      4       3       2            1   \n",
       "3      53.12  50.33        7       0      1       2       2            0   \n",
       "4      -1.00  -1.00       -1      -1     -1       2       2            0   \n",
       "5      -1.00  -1.00       -1      -1      1       3       1            0   \n",
       "...      ...    ...      ...     ...    ...     ...     ...          ...   \n",
       "16573  56.71  62.39        0       0      1       1       1            0   \n",
       "16574  56.71  62.39        0       0      4       1       1            0   \n",
       "16575  -1.00  -1.00       -1      -1     -1       1       2            0   \n",
       "16576  43.97  42.45       24       0      1       3       2            0   \n",
       "16577  42.68  43.46        0       0      4       3       2            0   \n",
       "\n",
       "           PERWT15F  \n",
       "0      21854.981705  \n",
       "1      18169.604822  \n",
       "3      17191.832515  \n",
       "4      20261.485463  \n",
       "5          0.000000  \n",
       "...             ...  \n",
       "16573   4111.315754  \n",
       "16574   5415.228173  \n",
       "16575   3896.116219  \n",
       "16576   4883.851005  \n",
       "16577   6630.588948  \n",
       "\n",
       "[15830 rows x 43 columns]"
      ]
     },
     "execution_count": 21,
     "metadata": {},
     "output_type": "execute_result"
    }
   ],
   "source": [
    "df_panel_19_reduced"
   ]
  },
  {
   "cell_type": "code",
   "execution_count": 25,
   "id": "95dc5e86",
   "metadata": {},
   "outputs": [],
   "source": [
    "regions = {1: 'Northeast', 2: 'Midwest', 3: 'South', 4: 'West'}\n",
    "sex = {1: 'MALE', 2:'FEMALE'}\n",
    "marry = {-9: 'NOT ASCERTAINED', -8: 'DK', -7: 'REFUSED', -1: 'INAPPLICABLE', 1: 'MARRIED', 2: 'WIDOWED', 3: 'DIVORCED', 4: 'SEPARATED', 5: 'NEVER MARRIED', 6: 'UNDER 16 - INAPPLICABLE', 7: 'MARRIED IN ROUND', 8: 'WIDOWED IN ROUND', 9: 'DIVORCED IN ROUND', 10: 'SEPARATED IN ROUND'}\n",
    "ftstu = {-9: 'NOT ASCERTAINED', -1: 'INAPPLICABLE', 1: 'FULL-TIME', 2: 'PART-TIME', 3: 'NOT A STUDENT'}\n",
    "actdty = {-9: 'NOT ASCERTAINED', -7: 'REFUSED', -1: 'INAPPLICABLE', 1: 'YES', 2: 'NO', 3: 'UNDER 16 - INAPPLICABLE', 4: 'OVER 59 - INAPPLICABLE'}\n",
    "honrdc = {-9: 'NOT ASCERTAINED', -8: 'DK', -7: 'REFUSED', -1: 'INAPPLICABLE', 1: 'YES', 2: 'NO', 3: 'UNDER 16 - INAPPLICABLE', 4: 'ACTIVE DUTY'}\n",
    "rthlth = {-9: 'NOT ASCERTAINED', -8: 'DK', -7: 'REFUSED', -1: 'INAPPLICABLE', 1: 'EXCELLENT', 2: 'VERY GOOD', 3: 'GOOD', 4: 'FAIR', 5: 'POOR'}\n",
    "mnhlth = {-9: 'NOT ASCERTAINED', -8: 'DK', -7: 'REFUSED', -1: 'INAPPLICABLE', 1: 'EXCELLENT', 2: 'VERY GOOD', 3: 'GOOD', 4: 'FAIR', 5: 'POOR'}\n",
    "hibpdx = {-9: 'NOT ASCERTAINED', -8: 'DK', -7: 'REFUSED', -1: 'INAPPLICABLE', 1: 'YES', 2: 'NO'}\n",
    "chddx = {-9: 'NOT ASCERTAINED', -8: 'DK', -7: 'REFUSED', -1: 'INAPPLICABLE', 1: 'YES', 2: 'NO'}\n",
    "angidx = {-9: 'NOT ASCERTAINED', -8: 'DK', -7: 'REFUSED', -1: 'INAPPLICABLE', 1: 'YES', 2: 'NO'}\n",
    "midx = {-9: 'NOT ASCERTAINED', -8: 'DK', -7: 'REFUSED', -1: 'INAPPLICABLE', 1: 'YES', 2: 'NO'}\n",
    "ohrtdx = {-9: 'NOT ASCERTAINED', -8: 'DK', -7: 'REFUSED', -1: 'INAPPLICABLE', 1: 'YES', 2: 'NO'}\n",
    "strkdx = {-9: 'NOT ASCERTAINED', -8: 'DK', -7: 'REFUSED', -1: 'INAPPLICABLE', 1: 'YES', 2: 'NO'}\n",
    "emphdx = {-9: 'NOT ASCERTAINED', -8: 'DK', -7: 'REFUSED', -1: 'INAPPLICABLE', 1: 'YES', 2: 'NO'}\n",
    "chbron = {-9: 'NOT ASCERTAINED', -8: 'DK', -7: 'REFUSED', -1: 'INAPPLICABLE', 1: 'YES', 2: 'NO'}\n",
    "choldx = {-9: 'NOT ASCERTAINED', -8: 'DK', -7: 'REFUSED', -1: 'INAPPLICABLE', 1: 'YES', 2: 'NO'}\n",
    "cancerdx = {-9: 'NOT ASCERTAINED', -8: 'DK', -7: 'REFUSED', -1: 'INAPPLICABLE', 1: 'YES', 2: 'NO'}\n",
    "diabdx = {-9: 'NOT ASCERTAINED', -8: 'DK', -7: 'REFUSED', -1: 'INAPPLICABLE', 1: 'YES', 2: 'NO'}\n",
    "jtpain = {-9: 'NOT ASCERTAINED', -8: 'DK', -7: 'REFUSED', -1: 'INAPPLICABLE', 1: 'YES', 2: 'NO'}\n",
    "arthdx = {-9: 'NOT ASCERTAINED', -8: 'DK', -7: 'REFUSED', -1: 'INAPPLICABLE', 1: 'YES', 2: 'NO'}\n",
    "arthtype = {-7: 'REFUSED', -1: ' INAPPLICABLE', 1: 'RHEUMATOID ARTHRITIS',2: ' OSTEOARTHRITIS', 3: ' NOT SPECIFIED '}\n",
    "asthdx = {-9: 'NOT ASCERTAINED', -8: 'DK', -7: 'REFUSED', -1: 'INAPPLICABLE', 1: 'YES', 2: 'NO'}\n",
    "adhdaddx = {-9: 'NOT ASCERTAINED', -8: 'DK', -7: 'REFUSED', -1: 'INAPPLICABLE', 1: 'YES', 2: 'NO'}\n",
    "pregnt = {-9: 'NOT ASCERTAINED', -8: 'DK', -7: 'REFUSED', -1: 'INAPPLICABLE', 1: 'YES', 2: 'NO'}\n",
    "wlklim = {-9: 'NOT ASCERTAINED', -8: 'DK', -7: 'REFUSED', -1: 'INAPPLICABLE', 1: 'YES', 2: 'NO'}\n",
    "actlim = {-9: 'NOT ASCERTAINED', -8: 'DK', -7: 'REFUSED', -1: 'INAPPLICABLE', 1: 'YES', 2: 'NO'}\n",
    "soclim = {-9: 'NOT ASCERTAINED', -8: 'DK', -7: 'REFUSED', -1: 'INAPPLICABLE', 1: 'YES', 2: 'NO'}\n",
    "coglim = {8: 'DK', -1: 'INAPPLICABLE', 1: 'YES', 2: 'NO'}\n",
    "dfhear42 = {-9: 'NOT ASCERTAINED', -8: 'DK', -7: 'REFUSED', -1: 'INAPPLICABLE', 1: 'YES', 2: 'NO'}\n",
    "dfsee42 = {-9: 'NOT ASCERTAINED', -8: 'DK', -7: 'REFUSED', -1: 'INAPPLICABLE', 1: 'YES', 2: 'NO'}\n",
    "adsmok42 = {-9: 'NOT ASCERTAINED', -1: 'INAPPLICABLE', 1: 'YES', 2: 'NO'}\n",
    "pcs42 = {-9: 'NOT ASCERTAINED', -1: 'INAPPLICABLE'}\n",
    "mcs42 = {-9: 'NOT ASCERTAINED', -1: 'INAPPLICABLE'}\n",
    "k6sum42 = {-9: 'NOT ASCERTAINED', -1: 'INAPPLICABLE'}\n",
    "phq242 = {-9: 'NOT ASCERTAINED', -1: 'INAPPLICABLE'}\n",
    "empst = {-9: 'NOT ASCERTAINED', -8: 'DK', -7: 'REFUSED', -1: 'INAPPLICABLE', 1: 'EMPLOYED AT RD INT DATE', 2: 'JOB TO RETURN TO AT RD INT DATE', 3: ' JOB DURING RD REF PERIOD', 4: 'NOT EMPLOYED DURING RD'}\n",
    "povcat = {1: 'POOR/NEGATIVE', 2: 'NEAR POOR', 3: 'LOW INCOME', 4: 'MIDDLE INCOME', 5: 'HIGH INCOME'}\n",
    "inscov = {1: 'ANY PRIVATE', 2: 'PUBLIC ONLY', 3: 'UNINSURED'}\n",
    "\n",
    "valueMappings = {'REGION': regions, 'SEX': sex, 'MARRY': marry, 'FTSTU': ftstu, 'ACTDTY': actdty, 'HONRDC': honrdc,\n",
    "       'RTHLTH': rthlth, 'MNHLTH': mnhlth, 'HIBPDX': hibpdx, 'CHDDX': chddx, 'ANGIDX': angidx, 'MIDX': midx, 'OHRTDX': ohrtdx,\n",
    "       'STRKDX': strkdx, 'EMPHDX': emphdx, 'CHBRON': chbron, 'CHOLDX': choldx, 'CANCERDX': cancerdx, 'DIABDX': diabdx, 'JTPAIN': jtpain,\n",
    "       'ARTHDX': arthdx, 'ARTHTYPE': arthdx, 'ASTHDX': asthdx, 'ADHDADDX': adhdaddx, 'PREGNT': pregnt, 'WLKLIM': wlklim,\n",
    "       'ACTLIM': actlim, 'SOCLIM': soclim, 'COGLIM': coglim, 'DFHEAR42': dfhear42, 'DFSEE42': dfsee42, 'ADSMOK42': adsmok42,\n",
    "       'PCS42': pcs42, 'MCS42': mcs42, 'K6SUM42': k6sum42, 'PHQ242': phq242, 'EMPST': empst, 'POVCAT': povcat, 'INSCOV': inscov}"
   ]
  },
  {
   "cell_type": "code",
   "execution_count": 26,
   "id": "c9854142",
   "metadata": {},
   "outputs": [
    {
     "name": "stderr",
     "output_type": "stream",
     "text": [
      "C:\\Users\\Diego\\AppData\\Local\\Temp\\ipykernel_39748\\2586674155.py:2: SettingWithCopyWarning: \n",
      "A value is trying to be set on a copy of a slice from a DataFrame.\n",
      "Try using .loc[row_indexer,col_indexer] = value instead\n",
      "\n",
      "See the caveats in the documentation: https://pandas.pydata.org/pandas-docs/stable/user_guide/indexing.html#returning-a-view-versus-a-copy\n",
      "  df_panel_19_reduced[variable] = df_panel_19_reduced[variable].replace(valueMappings[variable])\n",
      "C:\\Users\\Diego\\AppData\\Local\\Temp\\ipykernel_39748\\2586674155.py:3: SettingWithCopyWarning: \n",
      "A value is trying to be set on a copy of a slice from a DataFrame.\n",
      "Try using .loc[row_indexer,col_indexer] = value instead\n",
      "\n",
      "See the caveats in the documentation: https://pandas.pydata.org/pandas-docs/stable/user_guide/indexing.html#returning-a-view-versus-a-copy\n",
      "  df_panel_20_reduced[variable] = df_panel_20_reduced[variable].replace(valueMappings[variable])\n"
     ]
    }
   ],
   "source": [
    "for variable in valueMappings:\n",
    "    df_panel_19_reduced[variable] = df_panel_19_reduced[variable].replace(valueMappings[variable])\n",
    "    df_panel_20_reduced[variable] = df_panel_20_reduced[variable].replace(valueMappings[variable])"
   ]
  },
  {
   "cell_type": "code",
   "execution_count": 29,
   "id": "73e2e27e",
   "metadata": {},
   "outputs": [],
   "source": [
    "data19 = df_panel_19_reduced.copy()\n",
    "data20 = df_panel_20_reduced.copy()\n",
    "\n",
    "labels19 = data19['UTILIZATION']\n",
    "labels20 = data20['UTILIZATION']\n",
    "\n",
    "data19.drop(columns = 'UTILIZATION', inplace=True)\n",
    "data20.drop(columns = 'UTILIZATION', inplace=True)"
   ]
  },
  {
   "cell_type": "code",
   "execution_count": 36,
   "id": "d0593599",
   "metadata": {},
   "outputs": [],
   "source": [
    "dataset_orig_panel19_train, dataset_orig_panel19_val, dataset_orig_panel19_test = MEPSDataset19().split([0.5, 0.8], shuffle=True)"
   ]
  },
  {
   "cell_type": "code",
   "execution_count": 37,
   "id": "da00f7e0",
   "metadata": {},
   "outputs": [],
   "source": [
    "sens_ind = 0\n",
    "sens_attr = dataset_orig_panel19_train.protected_attribute_names[sens_ind]\n",
    "\n",
    "unprivileged_groups = [{sens_attr: v} for v in\n",
    "                       dataset_orig_panel19_train.unprivileged_protected_attributes[sens_ind]]\n",
    "privileged_groups = [{sens_attr: v} for v in\n",
    "                     dataset_orig_panel19_train.privileged_protected_attributes[sens_ind]]"
   ]
  },
  {
   "cell_type": "code",
   "execution_count": 38,
   "id": "99d1b9b6",
   "metadata": {},
   "outputs": [],
   "source": [
    "def describe(train=None, val=None, test=None):\n",
    "    if train is not None:\n",
    "        display(Markdown(\"#### Training Dataset shape\"))\n",
    "        print(train.features.shape)\n",
    "    if val is not None:\n",
    "        display(Markdown(\"#### Validation Dataset shape\"))\n",
    "        print(val.features.shape)\n",
    "    display(Markdown(\"#### Test Dataset shape\"))\n",
    "    print(test.features.shape)\n",
    "    display(Markdown(\"#### Favorable and unfavorable labels\"))\n",
    "    print(test.favorable_label, test.unfavorable_label)\n",
    "    display(Markdown(\"#### Protected attribute names\"))\n",
    "    print(test.protected_attribute_names)\n",
    "    display(Markdown(\"#### Privileged and unprivileged protected attribute values\"))\n",
    "    print(test.privileged_protected_attributes, \n",
    "          test.unprivileged_protected_attributes)\n",
    "    display(Markdown(\"#### Dataset feature names\"))\n",
    "    print(test.feature_names)"
   ]
  },
  {
   "cell_type": "code",
   "execution_count": 39,
   "id": "8033b947",
   "metadata": {},
   "outputs": [
    {
     "data": {
      "text/markdown": [
       "#### Training Dataset shape"
      ],
      "text/plain": [
       "<IPython.core.display.Markdown object>"
      ]
     },
     "metadata": {},
     "output_type": "display_data"
    },
    {
     "name": "stdout",
     "output_type": "stream",
     "text": [
      "(7915, 138)\n"
     ]
    },
    {
     "data": {
      "text/markdown": [
       "#### Validation Dataset shape"
      ],
      "text/plain": [
       "<IPython.core.display.Markdown object>"
      ]
     },
     "metadata": {},
     "output_type": "display_data"
    },
    {
     "name": "stdout",
     "output_type": "stream",
     "text": [
      "(4749, 138)\n"
     ]
    },
    {
     "data": {
      "text/markdown": [
       "#### Test Dataset shape"
      ],
      "text/plain": [
       "<IPython.core.display.Markdown object>"
      ]
     },
     "metadata": {},
     "output_type": "display_data"
    },
    {
     "name": "stdout",
     "output_type": "stream",
     "text": [
      "(3166, 138)\n"
     ]
    },
    {
     "data": {
      "text/markdown": [
       "#### Favorable and unfavorable labels"
      ],
      "text/plain": [
       "<IPython.core.display.Markdown object>"
      ]
     },
     "metadata": {},
     "output_type": "display_data"
    },
    {
     "name": "stdout",
     "output_type": "stream",
     "text": [
      "1.0 0.0\n"
     ]
    },
    {
     "data": {
      "text/markdown": [
       "#### Protected attribute names"
      ],
      "text/plain": [
       "<IPython.core.display.Markdown object>"
      ]
     },
     "metadata": {},
     "output_type": "display_data"
    },
    {
     "name": "stdout",
     "output_type": "stream",
     "text": [
      "['RACE']\n"
     ]
    },
    {
     "data": {
      "text/markdown": [
       "#### Privileged and unprivileged protected attribute values"
      ],
      "text/plain": [
       "<IPython.core.display.Markdown object>"
      ]
     },
     "metadata": {},
     "output_type": "display_data"
    },
    {
     "name": "stdout",
     "output_type": "stream",
     "text": [
      "[array([1.])] [array([0.])]\n"
     ]
    },
    {
     "data": {
      "text/markdown": [
       "#### Dataset feature names"
      ],
      "text/plain": [
       "<IPython.core.display.Markdown object>"
      ]
     },
     "metadata": {},
     "output_type": "display_data"
    },
    {
     "name": "stdout",
     "output_type": "stream",
     "text": [
      "['AGE', 'RACE', 'PCS42', 'MCS42', 'K6SUM42', 'REGION=1', 'REGION=2', 'REGION=3', 'REGION=4', 'SEX=1', 'SEX=2', 'MARRY=1', 'MARRY=2', 'MARRY=3', 'MARRY=4', 'MARRY=5', 'MARRY=6', 'MARRY=7', 'MARRY=8', 'MARRY=9', 'MARRY=10', 'FTSTU=-1', 'FTSTU=1', 'FTSTU=2', 'FTSTU=3', 'ACTDTY=1', 'ACTDTY=2', 'ACTDTY=3', 'ACTDTY=4', 'HONRDC=1', 'HONRDC=2', 'HONRDC=3', 'HONRDC=4', 'RTHLTH=-1', 'RTHLTH=1', 'RTHLTH=2', 'RTHLTH=3', 'RTHLTH=4', 'RTHLTH=5', 'MNHLTH=-1', 'MNHLTH=1', 'MNHLTH=2', 'MNHLTH=3', 'MNHLTH=4', 'MNHLTH=5', 'HIBPDX=-1', 'HIBPDX=1', 'HIBPDX=2', 'CHDDX=-1', 'CHDDX=1', 'CHDDX=2', 'ANGIDX=-1', 'ANGIDX=1', 'ANGIDX=2', 'MIDX=-1', 'MIDX=1', 'MIDX=2', 'OHRTDX=-1', 'OHRTDX=1', 'OHRTDX=2', 'STRKDX=-1', 'STRKDX=1', 'STRKDX=2', 'EMPHDX=-1', 'EMPHDX=1', 'EMPHDX=2', 'CHBRON=-1', 'CHBRON=1', 'CHBRON=2', 'CHOLDX=-1', 'CHOLDX=1', 'CHOLDX=2', 'CANCERDX=-1', 'CANCERDX=1', 'CANCERDX=2', 'DIABDX=-1', 'DIABDX=1', 'DIABDX=2', 'JTPAIN=-1', 'JTPAIN=1', 'JTPAIN=2', 'ARTHDX=-1', 'ARTHDX=1', 'ARTHDX=2', 'ARTHTYPE=-1', 'ARTHTYPE=1', 'ARTHTYPE=2', 'ARTHTYPE=3', 'ASTHDX=1', 'ASTHDX=2', 'ADHDADDX=-1', 'ADHDADDX=1', 'ADHDADDX=2', 'PREGNT=-1', 'PREGNT=1', 'PREGNT=2', 'WLKLIM=-1', 'WLKLIM=1', 'WLKLIM=2', 'ACTLIM=-1', 'ACTLIM=1', 'ACTLIM=2', 'SOCLIM=-1', 'SOCLIM=1', 'SOCLIM=2', 'COGLIM=-1', 'COGLIM=1', 'COGLIM=2', 'DFHEAR42=-1', 'DFHEAR42=1', 'DFHEAR42=2', 'DFSEE42=-1', 'DFSEE42=1', 'DFSEE42=2', 'ADSMOK42=-1', 'ADSMOK42=1', 'ADSMOK42=2', 'PHQ242=-1', 'PHQ242=0', 'PHQ242=1', 'PHQ242=2', 'PHQ242=3', 'PHQ242=4', 'PHQ242=5', 'PHQ242=6', 'EMPST=-1', 'EMPST=1', 'EMPST=2', 'EMPST=3', 'EMPST=4', 'POVCAT=1', 'POVCAT=2', 'POVCAT=3', 'POVCAT=4', 'POVCAT=5', 'INSCOV=1', 'INSCOV=2', 'INSCOV=3']\n"
     ]
    }
   ],
   "source": [
    "describe(dataset_orig_panel19_train, dataset_orig_panel19_val, dataset_orig_panel19_test)"
   ]
  },
  {
   "cell_type": "code",
   "execution_count": 40,
   "id": "7d8ff78f",
   "metadata": {},
   "outputs": [
    {
     "name": "stdout",
     "output_type": "stream",
     "text": [
      "Disparate impact (probability of favorable outcome for unprivileged instances / probability of favorable outcome for privileged instances): 0.482305229962759\n"
     ]
    }
   ],
   "source": [
    "metric_orig_panel19_train = BinaryLabelDatasetMetric(\n",
    "        dataset_orig_panel19_train,\n",
    "        unprivileged_groups=unprivileged_groups,\n",
    "        privileged_groups=privileged_groups)\n",
    "explainer_orig_panel19_train = MetricTextExplainer(metric_orig_panel19_train)\n",
    "\n",
    "print(explainer_orig_panel19_train.disparate_impact())"
   ]
  },
  {
   "cell_type": "markdown",
   "id": "16a94295-27c2-482c-966f-751714b61e7e",
   "metadata": {
    "tags": []
   },
   "source": [
    "### 3.2. Learning a Logistic Regression (LR) classifier on original data"
   ]
  },
  {
   "cell_type": "code",
   "execution_count": 41,
   "id": "1b7fd221",
   "metadata": {},
   "outputs": [],
   "source": [
    "dataset = dataset_orig_panel19_train\n",
    "model = make_pipeline(StandardScaler(),\n",
    "                      LogisticRegression(solver='liblinear', random_state=1))\n",
    "fit_params = {'logisticregression__sample_weight': dataset.instance_weights}\n",
    "\n",
    "lr_orig_panel19 = model.fit(dataset.features, dataset.labels.ravel(), **fit_params)"
   ]
  },
  {
   "cell_type": "code",
   "execution_count": 42,
   "id": "98a948d9",
   "metadata": {},
   "outputs": [],
   "source": [
    "from collections import defaultdict\n",
    "\n",
    "def test(dataset, model, thresh_arr):\n",
    "    try:\n",
    "        # sklearn classifier\n",
    "        y_val_pred_prob = model.predict_proba(dataset.features)\n",
    "        pos_ind = np.where(model.classes_ == dataset.favorable_label)[0][0]\n",
    "    except AttributeError:\n",
    "        # aif360 inprocessing algorithm\n",
    "        y_val_pred_prob = model.predict(dataset).scores\n",
    "        pos_ind = 0\n",
    "    \n",
    "    metric_arrs = defaultdict(list)\n",
    "    for thresh in thresh_arr:\n",
    "        y_val_pred = (y_val_pred_prob[:, pos_ind] > thresh).astype(np.float64)\n",
    "\n",
    "        dataset_pred = dataset.copy()\n",
    "        dataset_pred.labels = y_val_pred\n",
    "        metric = ClassificationMetric(\n",
    "                dataset, dataset_pred,\n",
    "                unprivileged_groups=unprivileged_groups,\n",
    "                privileged_groups=privileged_groups)\n",
    "\n",
    "        metric_arrs['bal_acc'].append((metric.true_positive_rate()\n",
    "                                     + metric.true_negative_rate()) / 2)\n",
    "        metric_arrs['avg_odds_diff'].append(metric.average_odds_difference())\n",
    "        metric_arrs['disp_imp'].append(metric.disparate_impact())\n",
    "        metric_arrs['stat_par_diff'].append(metric.statistical_parity_difference())\n",
    "        metric_arrs['eq_opp_diff'].append(metric.equal_opportunity_difference())\n",
    "        metric_arrs['theil_ind'].append(metric.theil_index())\n",
    "    \n",
    "    return metric_arrs"
   ]
  },
  {
   "cell_type": "code",
   "execution_count": 43,
   "id": "de0ce165",
   "metadata": {},
   "outputs": [],
   "source": [
    "thresh_arr = np.linspace(0.01, 0.5, 50)\n",
    "val_metrics = test(dataset=dataset_orig_panel19_val,\n",
    "                   model=lr_orig_panel19,\n",
    "                   thresh_arr=thresh_arr)\n",
    "lr_orig_best_ind = np.argmax(val_metrics['bal_acc'])"
   ]
  },
  {
   "cell_type": "code",
   "execution_count": 44,
   "id": "d8813f58",
   "metadata": {},
   "outputs": [],
   "source": [
    "def plot(x, x_name, y_left, y_left_name, y_right, y_right_name):\n",
    "    fig, ax1 = plt.subplots(figsize=(10,7))\n",
    "    ax1.plot(x, y_left)\n",
    "    ax1.set_xlabel(x_name, fontsize=16, fontweight='bold')\n",
    "    ax1.set_ylabel(y_left_name, color='b', fontsize=16, fontweight='bold')\n",
    "    ax1.xaxis.set_tick_params(labelsize=14)\n",
    "    ax1.yaxis.set_tick_params(labelsize=14)\n",
    "    ax1.set_ylim(0.5, 0.8)\n",
    "\n",
    "    ax2 = ax1.twinx()\n",
    "    ax2.plot(x, y_right, color='r')\n",
    "    ax2.set_ylabel(y_right_name, color='r', fontsize=16, fontweight='bold')\n",
    "    if 'DI' in y_right_name:\n",
    "        ax2.set_ylim(0., 0.7)\n",
    "    else:\n",
    "        ax2.set_ylim(-0.25, 0.1)\n",
    "\n",
    "    best_ind = np.argmax(y_left)\n",
    "    ax2.axvline(np.array(x)[best_ind], color='k', linestyle=':')\n",
    "    ax2.yaxis.set_tick_params(labelsize=14)\n",
    "    ax2.grid(True)"
   ]
  },
  {
   "cell_type": "code",
   "execution_count": 45,
   "id": "729d6eb9",
   "metadata": {},
   "outputs": [
    {
     "data": {
      "image/png": "[encoded data removed]",
      "text/plain": [
       "<Figure size 1000x700 with 2 Axes>"
      ]
     },
     "metadata": {},
     "output_type": "display_data"
    }
   ],
   "source": [
    "disp_imp = np.array(val_metrics['disp_imp'])\n",
    "disp_imp_err = 1 - np.minimum(disp_imp, 1/disp_imp)\n",
    "plot(thresh_arr, 'Classification Thresholds',\n",
    "     val_metrics['bal_acc'], 'Balanced Accuracy',\n",
    "     disp_imp_err, '1 - min(DI, 1/DI)')"
   ]
  },
  {
   "cell_type": "code",
   "execution_count": 46,
   "id": "24ae2090",
   "metadata": {},
   "outputs": [
    {
     "data": {
      "image/png": "[encoded data removed]",
      "text/plain": [
       "<Figure size 1000x700 with 2 Axes>"
      ]
     },
     "metadata": {},
     "output_type": "display_data"
    }
   ],
   "source": [
    "plot(thresh_arr, 'Classification Thresholds',\n",
    "     val_metrics['bal_acc'], 'Balanced Accuracy',\n",
    "     val_metrics['avg_odds_diff'], 'avg. odds diff.')"
   ]
  },
  {
   "cell_type": "code",
   "execution_count": 47,
   "id": "82d7f77e",
   "metadata": {},
   "outputs": [],
   "source": [
    "def describe_metrics(metrics, thresh_arr):\n",
    "    best_ind = np.argmax(metrics['bal_acc'])\n",
    "    print(\"Threshold corresponding to Best balanced accuracy: {:6.4f}\".format(thresh_arr[best_ind]))\n",
    "    print(\"Best balanced accuracy: {:6.4f}\".format(metrics['bal_acc'][best_ind]))\n",
    "#     disp_imp_at_best_ind = np.abs(1 - np.array(metrics['disp_imp']))[best_ind]\n",
    "    disp_imp_at_best_ind = 1 - min(metrics['disp_imp'][best_ind], 1/metrics['disp_imp'][best_ind])\n",
    "    print(\"Corresponding 1-min(DI, 1/DI) value: {:6.4f}\".format(disp_imp_at_best_ind))\n",
    "    print(\"Corresponding average odds difference value: {:6.4f}\".format(metrics['avg_odds_diff'][best_ind]))\n",
    "    print(\"Corresponding statistical parity difference value: {:6.4f}\".format(metrics['stat_par_diff'][best_ind]))\n",
    "    print(\"Corresponding equal opportunity difference value: {:6.4f}\".format(metrics['eq_opp_diff'][best_ind]))\n",
    "    print(\"Corresponding Theil index value: {:6.4f}\".format(metrics['theil_ind'][best_ind]))"
   ]
  },
  {
   "cell_type": "code",
   "execution_count": 48,
   "id": "1b6c1754",
   "metadata": {},
   "outputs": [
    {
     "name": "stdout",
     "output_type": "stream",
     "text": [
      "Threshold corresponding to Best balanced accuracy: 0.1900\n",
      "Best balanced accuracy: 0.7627\n",
      "Corresponding 1-min(DI, 1/DI) value: 0.6066\n",
      "Corresponding average odds difference value: -0.1831\n",
      "Corresponding statistical parity difference value: -0.2643\n",
      "Corresponding equal opportunity difference value: -0.1608\n",
      "Corresponding Theil index value: 0.0936\n"
     ]
    }
   ],
   "source": [
    "describe_metrics(val_metrics, thresh_arr)"
   ]
  },
  {
   "cell_type": "markdown",
   "id": "22318c2a-8698-4430-9670-41366dd9a39e",
   "metadata": {},
   "source": [
    "### 3.3. Learning a Random Forest (RF) classifier on original data"
   ]
  },
  {
   "cell_type": "code",
   "execution_count": null,
   "id": "7ec70597",
   "metadata": {},
   "outputs": [],
   "source": []
  },
  {
   "cell_type": "markdown",
   "id": "780381f0-6341-4b13-901e-112e156b829b",
   "metadata": {
    "tags": []
   },
   "source": [
    "### Section 3 Write Up here\n",
    "\n",
    "### Part-01: For **both** the logistic regression and random forest classifiers learned on the original data, please include explain the results of your fairness metrics. For _each_ metric result briefly describe what this value means in 1-2 sentences (is it fair, is it not fair? Why?)\n",
    "\n",
    "**Fairness Metric Summary** \n",
    "* Threshold corresponding to Best balanced accuracy:\n",
    "* Best balanced accuracy: \n",
    "* Corresponding 1-min(DI, 1/DI) value: \n",
    "* Corresponding average odds difference value: \n",
    "* Corresponding statistical parity difference value: \n",
    "* Corresponding equal opportunity difference value:\n",
    "* Corresponding Theil index value:\n",
    "\n",
    "### Part-02: Please write one paragraph for each question.\n",
    "1. How can we determine which metrics to use, given our data and use case? You can refer to [Course material](https://nanrahman.github.io/capstone-responsible-ai/weeks/06-Fairness-Assessments/), online research and Guidance provided by [AIF360](http://aif360.mybluemix.net/resources#)\n",
    "2. When you have competing fairness metrics, how to pick which to prioritize?\n",
    "3. What do you do when you encounter different definitions for similar metrics?\n",
    "4. Based on this, which model and fairness metric appears the best to proceed with?"
   ]
  },
  {
   "cell_type": "markdown",
   "id": "d53682fc-9332-498f-abe9-209744d7cbbd",
   "metadata": {
    "jp-MarkdownHeadingCollapsed": true,
    "tags": []
   },
   "source": [
    "### [4.](#Table-of-Contents) Additional Model Development\n",
    "\n"
   ]
  },
  {
   "cell_type": "markdown",
   "id": "de965d1e-5cf4-45f6-84e5-4b5a5caf34c2",
   "metadata": {
    "tags": []
   },
   "source": [
    "### 4.1A Load data & create splits for learning/validating/testing model"
   ]
  },
  {
   "cell_type": "code",
   "execution_count": null,
   "id": "970834e3-01eb-46e2-a026-3a1fb1a19533",
   "metadata": {},
   "outputs": [],
   "source": [
    "# Use the same methods from Section 3"
   ]
  },
  {
   "cell_type": "markdown",
   "id": "8ae16fc0-16de-49ab-bb8a-70a1d58cc4ab",
   "metadata": {
    "tags": []
   },
   "source": [
    "### 4.1B Utilize findings from your EDA to complete any additional mmodel development"
   ]
  },
  {
   "cell_type": "code",
   "execution_count": null,
   "id": "fcf86f7a-1a16-4383-a3ee-544337442742",
   "metadata": {},
   "outputs": [],
   "source": [
    "# Examples:\n",
    "\n",
    "# Feature selection \n",
    "# encoding\n",
    "# binning categorical features\n",
    "\n",
    "# Feel free to use the codebook from MEPS to explore other variables"
   ]
  },
  {
   "cell_type": "markdown",
   "id": "22345104-7e28-43c0-af32-efffcf8b4920",
   "metadata": {
    "tags": []
   },
   "source": [
    "### 4.2. Learning a Logistic Regression (LR) classifier on original data"
   ]
  },
  {
   "cell_type": "code",
   "execution_count": null,
   "id": "f1547e0f-a23a-4bbf-82a8-107bab7ac739",
   "metadata": {},
   "outputs": [],
   "source": [
    "# Use the same methods from Section 3"
   ]
  },
  {
   "cell_type": "markdown",
   "id": "da8258f9-430f-4569-bb8c-f7a1ca1580ef",
   "metadata": {},
   "source": [
    "### 4.3. Learning a Random Forest (RF) classifier on original data"
   ]
  },
  {
   "cell_type": "code",
   "execution_count": null,
   "id": "d228c01c-6058-4706-9179-206629a8e800",
   "metadata": {},
   "outputs": [],
   "source": [
    "# Use the same methods from Section 3"
   ]
  },
  {
   "cell_type": "markdown",
   "id": "bc612147-c6ab-4aea-a37f-95f44363cf90",
   "metadata": {
    "tags": []
   },
   "source": [
    "### Section 4 Write Up here\n",
    "\n",
    "**1. For both the logistic regression and random forest classifiers learned on the original data, please include the results of your fairness metrics. For _each_ metric result briefly describe (1-2 sentences) if you saw any differences from your results in Part 3, and what that might mean.**\n",
    "\n",
    "_Fairness Metrics_\n",
    "   * Threshold corresponding to Best balanced accuracy:\n",
    "   * Best balanced accuracy: \n",
    "   * Corresponding 1-min(DI, 1/DI) value: \n",
    "   * Corresponding average odds difference value: \n",
    "   * Corresponding statistical parity difference value: \n",
    "   * Corresponding equal opportunity difference value:\n",
    "   * Corresponding Theil index value:\n",
    "    \n",
    "**2. Based on this, would you make any recommendations during model development? Does it change which model and fairness metric would be the best to proceed with?** (Please write at least one paragraph)"
   ]
  },
  {
   "cell_type": "markdown",
   "id": "99473a5c-2910-4c77-a53a-f0022871225d",
   "metadata": {
    "tags": []
   },
   "source": [
    "\n",
    "### End of Replication Part 02 -  Model Development and Fairness Evaluation\n",
    "\n",
    "----\n"
   ]
  },
  {
   "cell_type": "markdown",
   "id": "cdad4c69-65f4-4646-87a2-996c8f983447",
   "metadata": {
    "jp-MarkdownHeadingCollapsed": true,
    "tags": []
   },
   "source": [
    "#### _Items below will be updated as course progress_\n",
    "\n"
   ]
  },
  {
   "cell_type": "markdown",
   "id": "58b3e294",
   "metadata": {},
   "source": [
    "### [5.](#Table-of-Contents) Bias Mitigation"
   ]
  },
  {
   "cell_type": "markdown",
   "id": "106d7b57",
   "metadata": {},
   "source": [
    "### [6.](#Table-of-Contents) Results Summary"
   ]
  },
  {
   "cell_type": "markdown",
   "id": "61997b93",
   "metadata": {},
   "source": [
    "### [7.](#Table-of-Contents) Explainability"
   ]
  },
  {
   "cell_type": "markdown",
   "id": "a9010ecc",
   "metadata": {},
   "source": [
    "### [8.](#Table-of-Contents) Conclusion & Discussion"
   ]
  }
 ],
 "metadata": {
  "kernelspec": {
   "display_name": "Python 3",
   "language": "python",
   "name": "python3"
  },
  "language_info": {
   "codemirror_mode": {
    "name": "ipython",
    "version": 3
   },
   "file_extension": ".py",
   "mimetype": "text/x-python",
   "name": "python",
   "nbconvert_exporter": "python",
   "pygments_lexer": "ipython3",
   "version": "3.9.6"
  },
  "toc-autonumbering": false,
  "toc-showcode": true,
  "toc-showmarkdowntxt": true,
  "toc-showtags": true
 },
 "nbformat": 4,
 "nbformat_minor": 5
}
